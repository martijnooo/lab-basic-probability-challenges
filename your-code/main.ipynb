{
 "cells": [
  {
   "cell_type": "markdown",
   "metadata": {},
   "source": [
    "# Lab | Basic Probability - Challenges\n",
    "\n",
    "## Challenge 1\n",
    "\n",
    "A and B are events of a probability space with $(\\omega, \\sigma, P)$ such that $P(A) = 0.3$, $P(B) = 0.6$ and $P(A \\cap B) = 0.1$\n",
    "\n",
    "Which of the following statements are false?\n",
    "* $P(A \\cup B) = 0.6$\n",
    "* $P(A \\cap B^{C}) = 0.2$\n",
    "* $P(A \\cap (B \\cup B^{C})) = 0.4$\n",
    "* $P(A^{C} \\cap B^{C}) = 0.3$\n",
    "* $P((A \\cap B)^{C}) = 0.9$"
   ]
  },
  {
   "cell_type": "code",
   "execution_count": null,
   "metadata": {},
   "outputs": [],
   "source": [
    "# False statements:\n",
    "\n",
    "# 𝑃\n",
    "# (\n",
    "# 𝐴\n",
    "# ∪\n",
    "# 𝐵\n",
    "# )\n",
    "# =\n",
    "# 0.6\n",
    "# P(A∪B)=0.6\n",
    "\n",
    "# 𝑃\n",
    "# (\n",
    "# 𝐴\n",
    "# ∩\n",
    "# (\n",
    "# 𝐵\n",
    "# ∪\n",
    "# 𝐵\n",
    "# 𝐶\n",
    "# )\n",
    "# )\n",
    "# =\n",
    "# 0.4\n",
    "# P(A∩(B∪B \n",
    "# C\n",
    "#  ))=0.4\n",
    "\n",
    "# 𝑃\n",
    "# (\n",
    "# 𝐴\n",
    "# 𝐶\n",
    "# ∩\n",
    "# 𝐵\n",
    "# 𝐶\n",
    "# )\n",
    "# =\n",
    "# 0.3\n",
    "# P(A \n",
    "# C\n",
    "#  ∩B \n",
    "# C\n",
    "#  )=0.3"
   ]
  },
  {
   "cell_type": "markdown",
   "metadata": {},
   "source": [
    "## Challenge 2\n",
    "There is a box with 10 white balls, 12 red balls and 8 black balls. Calculate the probability of:\n",
    "* Taking a white ball out.\n",
    "* Taking a white ball out after taking a black ball out.\n",
    "* Taking a red ball out after taking a black and a red ball out.\n",
    "* Taking a red ball out after taking a black and a red ball out with reposition.\n",
    "\n",
    "**Hint**: Reposition means putting back the ball into the box after taking it out."
   ]
  },
  {
   "cell_type": "code",
   "execution_count": null,
   "metadata": {},
   "outputs": [],
   "source": [
    "# Your code here\n",
    "# 1. 10/30 = 1/3\n",
    "#2. 8 /30 * 10/29\n",
    "#3 12/30 * 8/29 * 11/28\n",
    "#4 12/30 * 8/30 * 12/30"
   ]
  },
  {
   "cell_type": "markdown",
   "metadata": {},
   "source": [
    "## Challenge 3\n",
    "\n",
    "You are planning to go on a picnic today but the morning is cloudy. You hate rain so you don't know whether to go out or stay home! To help you make a decision, you gather the following data about rainy days:\n",
    "\n",
    "* 50% of all rainy days start off cloudy!\n",
    "* Cloudy mornings are common. About 40% of days start cloudy. \n",
    "* This month is usually dry so only 3 of 30 days (10%) tend to be rainy. \n",
    "\n",
    "What is the chance of rain during the day?"
   ]
  },
  {
   "cell_type": "code",
   "execution_count": null,
   "metadata": {},
   "outputs": [],
   "source": [
    "# # Your code here\n",
    "#  Use Bayes’ Theorem:\n",
    "# 𝑃\n",
    "# (\n",
    "# 𝑅\n",
    "# ∣\n",
    "# 𝐶\n",
    "# )\n",
    "# =\n",
    "# 𝑃\n",
    "# (\n",
    "# 𝐶\n",
    "# ∣\n",
    "# 𝑅\n",
    "# )\n",
    "# ⋅\n",
    "# 𝑃\n",
    "# (\n",
    "# 𝑅\n",
    "# )\n",
    "# 𝑃\n",
    "# (\n",
    "# 𝐶\n",
    "# )\n",
    "# P(R∣C)= \n",
    "# P(C)\n",
    "# P(C∣R)⋅P(R)\n",
    "# ​\n",
    " \n",
    "# Plug in the values:\n",
    "\n",
    "# 𝑃\n",
    "# (\n",
    "# 𝑅\n",
    "# ∣\n",
    "# 𝐶\n",
    "# )\n",
    "# =\n",
    "# 0.5\n",
    "# ⋅\n",
    "# 0.1\n",
    "# 0.4\n",
    "# =\n",
    "# 0.05\n",
    "# 0.4\n",
    "# =\n",
    "# 0.125\n",
    "# P(R∣C)= \n",
    "# 0.4\n",
    "# 0.5⋅0.1\n",
    "# ​\n",
    "#  = \n",
    "# 0.4\n",
    "# 0.05\n",
    "# ​\n",
    "#  =0.125"
   ]
  },
  {
   "cell_type": "markdown",
   "metadata": {},
   "source": [
    "## Challenge 4\n",
    "\n",
    "\n",
    " * If someone flies to China, the probability of getting Covid is 1%  \n",
    " * If someone flies to Italy, the probability of getting Covid is 20%  \n",
    "\n",
    "I roll 1 dice with numbers 1, 2, 3, 4, 5, 6:  \n",
    " * If 1: I fly to Italy\n",
    " * If not 1: I fly to China\n",
    "\n",
    "During my trip, I got Covid. What is the probability that I flew to China?"
   ]
  },
  {
   "cell_type": "code",
   "execution_count": 1,
   "metadata": {},
   "outputs": [
    {
     "data": {
      "text/plain": [
       "0.2"
      ]
     },
     "execution_count": 1,
     "metadata": {},
     "output_type": "execute_result"
    }
   ],
   "source": [
    "# Probabilities\n",
    "P_Italy = 1/6  # Probability of flying to Italy\n",
    "P_China = 5/6  # Probability of flying to China\n",
    "P_Covid_given_Italy = 0.2  # Probability of getting Covid if in Italy\n",
    "P_Covid_given_China = 0.01  # Probability of getting Covid if in China\n",
    "\n",
    "# Total probability of getting Covid\n",
    "P_Covid = (P_Covid_given_Italy * P_Italy) + (P_Covid_given_China * P_China)\n",
    "\n",
    "# Probability of flying to China given that I got Covid\n",
    "P_China_given_Covid = (P_Covid_given_China * P_China) / P_Covid\n",
    "\n",
    "P_China_given_Covid"
   ]
  },
  {
   "cell_type": "markdown",
   "metadata": {},
   "source": [
    "## BONUS\n",
    "\n",
    "You roll 2 dice. What is the probability that the sum of the numbers is 7? And 8? And 9? Then simulate 10000 times and draw a countplot."
   ]
  },
  {
   "cell_type": "markdown",
   "metadata": {},
   "source": [
    "your explanation here"
   ]
  },
  {
   "cell_type": "code",
   "execution_count": null,
   "metadata": {},
   "outputs": [],
   "source": [
    "# Your code here"
   ]
  },
  {
   "cell_type": "markdown",
   "metadata": {},
   "source": [
    "## Bonus \n",
    "\n",
    "One thousand people were asked through a telephone survey whether they thought more street lighting is needed at night or not.\n",
    "\n",
    "Out of the 480 men that answered the survey, 324 said yes and 156 said no. On the other hand, out of the 520 women that answered, 351 said yes and 169 said no. \n",
    "\n",
    "We wonder if men and women have a different opinions about the street lighting matter. Is gender relevant or irrelevant to the question?\n",
    "\n",
    "Consider the following events:\n",
    "- The answer is yes, so the person that answered thinks that more street lighting is needed.\n",
    "- The person who answered is a man.\n",
    "\n",
    "We want to know if these events are independent, that is, if the fact of wanting more light depends on whether one is male or female. Are these events independent or not?\n",
    "\n",
    "**Hint**: To clearly compare the answers by gender, it is best to place the data in a table."
   ]
  },
  {
   "cell_type": "markdown",
   "metadata": {},
   "source": [
    "| Gender  | Yes  | No |  |\n",
    "|---|---|---|---|\n",
    "| Men  | 0.324  | 0.156 | 0.48 |\n",
    "| Women  | 0.351  | 0.169 | 0.52 |\n",
    "|   | 0.675  | 0.325 |"
   ]
  },
  {
   "cell_type": "code",
   "execution_count": null,
   "metadata": {},
   "outputs": [],
   "source": [
    "# Your code here"
   ]
  }
 ],
 "metadata": {
  "kernelspec": {
   "display_name": "datasci_env",
   "language": "python",
   "name": "python3"
  },
  "language_info": {
   "codemirror_mode": {
    "name": "ipython",
    "version": 3
   },
   "file_extension": ".py",
   "mimetype": "text/x-python",
   "name": "python",
   "nbconvert_exporter": "python",
   "pygments_lexer": "ipython3",
   "version": "3.8.20"
  }
 },
 "nbformat": 4,
 "nbformat_minor": 2
}
